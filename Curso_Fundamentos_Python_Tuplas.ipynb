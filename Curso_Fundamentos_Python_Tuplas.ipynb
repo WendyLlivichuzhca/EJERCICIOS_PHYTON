{
 "cells": [
  {
   "cell_type": "markdown",
   "id": "3958fd5a",
   "metadata": {},
   "source": [
    "# CURSO DE FUNDAMENTOS DE PYTHON\n",
    "## EJERCICIOS DE TUPLAS"
   ]
  },
  {
   "cell_type": "markdown",
   "id": "95569d08",
   "metadata": {},
   "source": [
    "### Ejercicio 1\n",
    "Crear una tupla vacía"
   ]
  },
  {
   "cell_type": "code",
   "execution_count": 16,
   "id": "4dbdd0f3",
   "metadata": {},
   "outputs": [
    {
     "name": "stdout",
     "output_type": "stream",
     "text": [
      "()\n"
     ]
    }
   ],
   "source": [
    "# Escribe tu solución aquí\n",
    "\n",
    "tupla_vacia = ()\n",
    "print(tupla_vacia)  "
   ]
  },
  {
   "cell_type": "markdown",
   "id": "471ea4ec",
   "metadata": {},
   "source": [
    "### Ejercicio 2\n",
    "Crear una tupla con algunos elementos"
   ]
  },
  {
   "cell_type": "code",
   "execution_count": 17,
   "id": "d64155ad",
   "metadata": {},
   "outputs": [
    {
     "name": "stdout",
     "output_type": "stream",
     "text": [
      "(1, 2, 3, 4, 5)\n"
     ]
    }
   ],
   "source": [
    "# Escribe tu solución aquí\n",
    "\n",
    "tupla = (1, 2, 3, 4, 5)\n",
    "print(tupla)\n"
   ]
  },
  {
   "cell_type": "markdown",
   "id": "e58dc97c",
   "metadata": {},
   "source": [
    "### Ejercicio 3\n",
    "Acceder a un elemento de la tupla"
   ]
  },
  {
   "cell_type": "code",
   "execution_count": 18,
   "id": "3d38d0a1",
   "metadata": {},
   "outputs": [
    {
     "name": "stdout",
     "output_type": "stream",
     "text": [
      "3\n"
     ]
    }
   ],
   "source": [
    "# Escribe tu solución aquí\n",
    "\n",
    "elemento = tupla[2]  \n",
    "print(elemento)  "
   ]
  },
  {
   "cell_type": "markdown",
   "id": "3d3ea4ff",
   "metadata": {},
   "source": [
    "### Ejercicio 4\n",
    "Intentar modificar un elemento de la tupla (esto producirá un error ya que las tuplas son inmutables)"
   ]
  },
  {
   "cell_type": "code",
   "execution_count": 19,
   "id": "23550096",
   "metadata": {},
   "outputs": [
    {
     "ename": "TypeError",
     "evalue": "'tuple' object does not support item assignment",
     "output_type": "error",
     "traceback": [
      "\u001b[1;31m---------------------------------------------------------------------------\u001b[0m",
      "\u001b[1;31mTypeError\u001b[0m                                 Traceback (most recent call last)",
      "Cell \u001b[1;32mIn[19], line 7\u001b[0m\n\u001b[0;32m      4\u001b[0m mi_tupla \u001b[38;5;241m=\u001b[39m (\u001b[38;5;241m1\u001b[39m, \u001b[38;5;241m2\u001b[39m, \u001b[38;5;241m3\u001b[39m, \u001b[38;5;241m4\u001b[39m)\n\u001b[0;32m      6\u001b[0m \u001b[38;5;66;03m# Intentamos cambiar el segundo elemento\u001b[39;00m\n\u001b[1;32m----> 7\u001b[0m mi_tupla[\u001b[38;5;241m1\u001b[39m] \u001b[38;5;241m=\u001b[39m \u001b[38;5;241m10\u001b[39m\n",
      "\u001b[1;31mTypeError\u001b[0m: 'tuple' object does not support item assignment"
     ]
    }
   ],
   "source": [
    "# Escribe tu solución aquí\n",
    "# Intenta modificar un elemento de la tupla\n",
    "# Creamos una tupla\n",
    "mi_tupla = (1, 2, 3, 4)\n",
    "\n",
    "# Intentamos cambiar el segundo elemento\n",
    "mi_tupla[1] = 10  # Esto producirá un error\n"
   ]
  },
  {
   "cell_type": "markdown",
   "id": "2f46a63f",
   "metadata": {},
   "source": [
    "### Ejercicio 5\n",
    "Concatenar dos tuplas"
   ]
  },
  {
   "cell_type": "code",
   "execution_count": null,
   "id": "a70577e9",
   "metadata": {},
   "outputs": [
    {
     "name": "stdout",
     "output_type": "stream",
     "text": [
      "(1, 2, 3, 4, 5, 6)\n"
     ]
    }
   ],
   "source": [
    "# Escribe tu solución aquí\n",
    "\n",
    "tupla1 = (1, 2, 3)\n",
    "tupla2 = (4, 5, 6)\n",
    "tupla_concatenada = tupla1 + tupla2\n",
    "print(tupla_concatenada)    "
   ]
  },
  {
   "cell_type": "markdown",
   "id": "06989a64",
   "metadata": {},
   "source": [
    "### Ejercicio 6\n",
    "Obtener la longitud de una tupla"
   ]
  },
  {
   "cell_type": "code",
   "execution_count": null,
   "id": "511c00ed",
   "metadata": {},
   "outputs": [
    {
     "name": "stdout",
     "output_type": "stream",
     "text": [
      "3\n",
      "3\n",
      "6\n"
     ]
    }
   ],
   "source": [
    "# Escribe tu solución aquí\n",
    "print(len(tupla1))  \n",
    "print(len(tupla2))  \n",
    "print(len(tupla_concatenada))  "
   ]
  },
  {
   "cell_type": "markdown",
   "id": "043aa8f9",
   "metadata": {},
   "source": [
    "### Ejercicio 7\n",
    "Convertir una tupla en una lista"
   ]
  },
  {
   "cell_type": "code",
   "execution_count": null,
   "id": "be09e1b7",
   "metadata": {},
   "outputs": [
    {
     "name": "stdout",
     "output_type": "stream",
     "text": [
      "[1, 2, 3, 4, 5]\n"
     ]
    }
   ],
   "source": [
    "# Escribe tu solución aquí\n",
    "\n",
    "mi_tupla = (1, 2, 3, 4, 5)\n",
    "mi_lista = list(mi_tupla)\n",
    "print(mi_lista)\n"
   ]
  },
  {
   "cell_type": "markdown",
   "id": "d9c8b3d6",
   "metadata": {},
   "source": [
    "### Ejercicio 8\n",
    "Convertir una lista en una tupla"
   ]
  },
  {
   "cell_type": "code",
   "execution_count": null,
   "id": "c9d30b3f",
   "metadata": {},
   "outputs": [
    {
     "name": "stdout",
     "output_type": "stream",
     "text": [
      "(1, 2, 3, 4, 5)\n"
     ]
    }
   ],
   "source": [
    "# Escribe tu solución aquí\n",
    "\n",
    "mi_lista = [1, 2, 3, 4, 5]\n",
    "mi_tupla = tuple(mi_lista)\n",
    "print(mi_tupla)"
   ]
  },
  {
   "cell_type": "markdown",
   "id": "7176ec06",
   "metadata": {},
   "source": [
    "### Ejercicio 9\n",
    "Crear una tupla de números enteros y calcular su suma y promedio"
   ]
  },
  {
   "cell_type": "code",
   "execution_count": null,
   "id": "e7f7a609",
   "metadata": {},
   "outputs": [
    {
     "name": "stdout",
     "output_type": "stream",
     "text": [
      "15\n"
     ]
    }
   ],
   "source": [
    "# Escribe tu solución aquí\n",
    "tupla_numeros = (1, 2, 3, 4, 5)\n",
    "suma = sum(tupla_numeros)\n",
    "print(suma)  "
   ]
  },
  {
   "cell_type": "markdown",
   "id": "40cff443",
   "metadata": {},
   "source": [
    "### Ejercicio 10\n",
    "Crear dos tuplas de la misma longitud y crear una nueva tupla que contenga la suma de los elementos correspondientes de ambas tuplas"
   ]
  },
  {
   "cell_type": "code",
   "execution_count": null,
   "id": "7e86cf87",
   "metadata": {},
   "outputs": [
    {
     "name": "stdout",
     "output_type": "stream",
     "text": [
      "Tupla 1: (1, 2, 3, 4)\n",
      "Tupla 2: (5, 6, 7, 8)\n",
      "Tupla suma: (6, 8, 10, 12)\n"
     ]
    }
   ],
   "source": [
    "# Escribe tu solución aquí\n",
    "\n",
    "tupla1 = (1, 2, 3, 4)\n",
    "tupla2 = (5, 6, 7, 8)\n",
    "\n",
    "# Crear una nueva tupla con la suma de los elementos correspondientes\n",
    "tupla_suma = tuple(a + b for a, b in zip(tupla1, tupla2))\n",
    "\n",
    "# Resultados\n",
    "print(\"Tupla 1:\", tupla1)\n",
    "print(\"Tupla 2:\", tupla2)\n",
    "print(\"Tupla suma:\", tupla_suma)\n"
   ]
  },
  {
   "cell_type": "markdown",
   "id": "1860c8b5",
   "metadata": {},
   "source": [
    "### Ejercicio 11\n",
    "Crear una tupla de nombres y ordenarla alfabéticamente"
   ]
  },
  {
   "cell_type": "code",
   "execution_count": 2,
   "id": "8747c99f",
   "metadata": {},
   "outputs": [
    {
     "name": "stdout",
     "output_type": "stream",
     "text": [
      "('Ana', 'Beatriz', 'Carlos', 'Luis')\n"
     ]
    }
   ],
   "source": [
    "# Escribe tu solución aquí\n",
    "\n",
    "nombres = (\"Ana\", \"Luis\", \"Carlos\", \"Beatriz\")\n",
    "nombres_ordenados = tuple(sorted(nombres))\n",
    "print(nombres_ordenados)    "
   ]
  },
  {
   "cell_type": "markdown",
   "id": "55909a48",
   "metadata": {},
   "source": [
    "### Ejercicio 12\n",
    "Crear una tupla de números y encontrar el valor mínimo y máximo"
   ]
  },
  {
   "cell_type": "code",
   "execution_count": 3,
   "id": "40caeaad",
   "metadata": {},
   "outputs": [
    {
     "name": "stdout",
     "output_type": "stream",
     "text": [
      "Mínimo: 1\n",
      "Máximo: 5\n"
     ]
    }
   ],
   "source": [
    "# Escribe tu solución aquí\n",
    "tupla = (1, 2, 3, 4, 5)\n",
    "minimo = min(tupla)\n",
    "maximo = max(tupla)\n",
    "print(\"Mínimo:\", minimo)\n",
    "print(\"Máximo:\", maximo)"
   ]
  },
  {
   "cell_type": "markdown",
   "id": "226d77e2",
   "metadata": {},
   "source": [
    "### Ejercicio 13\n",
    "Crear una tupla de números y convertirla en una lista"
   ]
  },
  {
   "cell_type": "code",
   "execution_count": 5,
   "id": "8d33e2a9",
   "metadata": {},
   "outputs": [
    {
     "name": "stdout",
     "output_type": "stream",
     "text": [
      "[1, 2, 3, 4, 5, 3, 2, 1]\n"
     ]
    }
   ],
   "source": [
    "# Escribe tu solución aquí\n",
    "number = (1, 2, 3, 4, 5, 3, 2, 1)\n",
    "lista_number = list(number)\n",
    "print(lista_number)\n"
   ]
  },
  {
   "cell_type": "markdown",
   "id": "aed8eb40",
   "metadata": {},
   "source": [
    "### Ejercicio 14\n",
    "Crear una tupla con los días de la semana y mostrar el tercer elemento"
   ]
  },
  {
   "cell_type": "code",
   "execution_count": 7,
   "id": "e0e0592d",
   "metadata": {},
   "outputs": [
    {
     "name": "stdout",
     "output_type": "stream",
     "text": [
      "Miércoles\n"
     ]
    }
   ],
   "source": [
    "# Escribe tu solución aquí\n",
    "\n",
    "dias_semana = (\"Lunes\", \"Martes\", \"Miércoles\", \"Jueves\", \"Viernes\", \"Sábado\", \"Domingo\")\n",
    "print(dias_semana[2])  "
   ]
  },
  {
   "cell_type": "markdown",
   "id": "a4e2f0bd",
   "metadata": {},
   "source": [
    "### Ejercicio 15\n",
    "Crear una tupla con números enteros y mostrar aquellos que son pares"
   ]
  },
  {
   "cell_type": "code",
   "execution_count": 1,
   "id": "ae68bcc2",
   "metadata": {},
   "outputs": [
    {
     "name": "stdout",
     "output_type": "stream",
     "text": [
      "(2, 4, 6, 8, 10)\n"
     ]
    }
   ],
   "source": [
    "# Escribe tu solución aquí\n",
    "tupla_numeros = (1, 2, 3, 4, 5, 6, 7, 8, 9, 10)\n",
    "numeros_pares = tuple(num for num in tupla_numeros if num % 2 == 0)\n",
    "print(numeros_pares)    "
   ]
  },
  {
   "cell_type": "markdown",
   "id": "e062a7b7",
   "metadata": {},
   "source": [
    "### Ejercicio 16\n",
    "Crear una tupla con los meses del año y mostrar aquellos que tienen más de cinco letras"
   ]
  },
  {
   "cell_type": "code",
   "execution_count": 2,
   "id": "e58a5aeb",
   "metadata": {},
   "outputs": [
    {
     "name": "stdout",
     "output_type": "stream",
     "text": [
      "('Febrero', 'Agosto', 'Septiembre', 'Octubre', 'Noviembre', 'Diciembre')\n"
     ]
    }
   ],
   "source": [
    "# Escribe tu solución aquí\n",
    "meses = (\"Enero\", \"Febrero\", \"Marzo\", \"Abril\", \"Mayo\", \"Junio\", \"Julio\", \"Agosto\", \"Septiembre\", \"Octubre\", \"Noviembre\", \"Diciembre\")\n",
    "meses_mas_de_cinco_letras = tuple(mes for mes in meses if len(mes) > 5)\n",
    "print(meses_mas_de_cinco_letras)"
   ]
  },
  {
   "cell_type": "markdown",
   "id": "c7e09ce7",
   "metadata": {},
   "source": [
    "### Ejercicio 17\n",
    "Crear una tupla con las edades de varias personas y mostrar la cantidad de personas mayores de 18 años"
   ]
  },
  {
   "cell_type": "code",
   "execution_count": 3,
   "id": "d07c0fd7",
   "metadata": {},
   "outputs": [
    {
     "name": "stdout",
     "output_type": "stream",
     "text": [
      "Cantidad de personas mayores de edad: 5\n"
     ]
    }
   ],
   "source": [
    "# Escribe tu solución aquí\n",
    "edades = (15, 22, 18, 30, 12, 25, 17, 19)\n",
    "mayores_de_edad = sum(1 for edad in edades if edad >= 18)\n",
    "print(\"Cantidad de personas mayores de edad:\", mayores_de_edad) "
   ]
  },
  {
   "cell_type": "markdown",
   "id": "e499c0fc",
   "metadata": {},
   "source": [
    "### Ejercicio 18\n",
    "Crear una tupla de tuplas que contienen información de libros y mostrar el título del tercer libro"
   ]
  },
  {
   "cell_type": "code",
   "execution_count": 5,
   "id": "bdb7376a",
   "metadata": {},
   "outputs": [
    {
     "name": "stdout",
     "output_type": "stream",
     "text": [
      "Título del tercer libro: El Principito\n"
     ]
    }
   ],
   "source": [
    "# Escribe tu solución aquí\n",
    "libros = (\n",
    "    (\"Cien Años de Soledad\", \"Gabriel García Márquez\", 1967),\n",
    "    (\"1984\", \"George Orwell\", 1949),\n",
    "    (\"El Principito\", \"Antoine de Saint-Exupéry\", 1943),\n",
    "    (\"Don Quijote de la Mancha\", \"Miguel de Cervantes\", 1605)\n",
    ")\n",
    "print(\"Título del tercer libro:\", libros[2][0])"
   ]
  }
 ],
 "metadata": {
  "kernelspec": {
   "display_name": "base",
   "language": "python",
   "name": "python3"
  },
  "language_info": {
   "codemirror_mode": {
    "name": "ipython",
    "version": 3
   },
   "file_extension": ".py",
   "mimetype": "text/x-python",
   "name": "python",
   "nbconvert_exporter": "python",
   "pygments_lexer": "ipython3",
   "version": "3.13.5"
  }
 },
 "nbformat": 4,
 "nbformat_minor": 5
}
