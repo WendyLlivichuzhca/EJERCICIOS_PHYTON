{
 "cells": [
  {
   "cell_type": "markdown",
   "id": "337f1a1c",
   "metadata": {},
   "source": [
    "# CURSO DE FUNDAMENTOS DE PYTHON\n",
    "## EJERCICIOS DE DICCIONARIOS"
   ]
  },
  {
   "cell_type": "markdown",
   "id": "0bc8a1f7",
   "metadata": {},
   "source": [
    "### Ejercicio Básico 1\n",
    "Crear un diccionario vacío"
   ]
  },
  {
   "cell_type": "code",
   "execution_count": 38,
   "id": "43df951b",
   "metadata": {},
   "outputs": [
    {
     "data": {
      "text/plain": [
       "{}"
      ]
     },
     "execution_count": 38,
     "metadata": {},
     "output_type": "execute_result"
    }
   ],
   "source": [
    "# Escribe tu solución aquí\n",
    "diccionario = {}\n",
    "diccionario"
   ]
  },
  {
   "cell_type": "markdown",
   "id": "2a28ae62",
   "metadata": {},
   "source": [
    "### Ejercicio Básico 2\n",
    "Agregar elementos a un diccionario"
   ]
  },
  {
   "cell_type": "code",
   "execution_count": 39,
   "id": "a02b119d",
   "metadata": {},
   "outputs": [
    {
     "data": {
      "text/plain": [
       "{'mate': 10, 'historia': 9, 'lenguaje': 8}"
      ]
     },
     "execution_count": 39,
     "metadata": {},
     "output_type": "execute_result"
    }
   ],
   "source": [
    "# Escribe tu solución aquí\n",
    "diccionario = {'mate': 10, 'historia': 9, 'lenguaje': 8}\n",
    "diccionario"
   ]
  },
  {
   "cell_type": "markdown",
   "id": "d6d8a38b",
   "metadata": {},
   "source": [
    "### Ejercicio Básico 3\n",
    "Acceder a un valor en un diccionario"
   ]
  },
  {
   "cell_type": "code",
   "execution_count": 40,
   "id": "693d1c07",
   "metadata": {},
   "outputs": [
    {
     "data": {
      "text/plain": [
       "10"
      ]
     },
     "execution_count": 40,
     "metadata": {},
     "output_type": "execute_result"
    }
   ],
   "source": [
    "# Escribe tu solución aquí\n",
    "diccionario['mate']"
   ]
  },
  {
   "cell_type": "markdown",
   "id": "67c95a2a",
   "metadata": {},
   "source": [
    "### Ejercicio Básico 4\n",
    "Verificar si una llave existe en un diccionario"
   ]
  },
  {
   "cell_type": "code",
   "execution_count": 41,
   "id": "b1d9f6d9",
   "metadata": {},
   "outputs": [
    {
     "name": "stdout",
     "output_type": "stream",
     "text": [
      "La materia 'mate' está en el diccionario\n"
     ]
    }
   ],
   "source": [
    "# Escribe tu solución aquí\n",
    "if 'mate' in diccionario:\n",
    "    print(\"La materia 'mate' está en el diccionario\")"
   ]
  },
  {
   "cell_type": "markdown",
   "id": "0b8f0653",
   "metadata": {},
   "source": [
    "### Ejercicio Básico 5\n",
    "Eliminar un elemento de un diccionario"
   ]
  },
  {
   "cell_type": "code",
   "execution_count": 42,
   "id": "99ef8d65",
   "metadata": {},
   "outputs": [
    {
     "name": "stdout",
     "output_type": "stream",
     "text": [
      "{'mate': 10, 'lenguaje': 8}\n"
     ]
    }
   ],
   "source": [
    "# Escribe tu solución aquí\n",
    "\n",
    "# Eliminar la clave 'historia'\n",
    "del diccionario['historia']\n",
    "\n",
    "print(diccionario)\n"
   ]
  },
  {
   "cell_type": "markdown",
   "id": "7fe51000",
   "metadata": {},
   "source": [
    "### Ejercicio Básico 6\n",
    "Imprimir las llaves de un diccionario"
   ]
  },
  {
   "cell_type": "code",
   "execution_count": 43,
   "id": "383324c8",
   "metadata": {},
   "outputs": [
    {
     "data": {
      "text/plain": [
       "dict_keys(['mate', 'lenguaje'])"
      ]
     },
     "execution_count": 43,
     "metadata": {},
     "output_type": "execute_result"
    }
   ],
   "source": [
    "# Escribe tu solución aquí\n",
    "diccionario.keys()"
   ]
  },
  {
   "cell_type": "markdown",
   "id": "cdfdf562",
   "metadata": {},
   "source": [
    "### Ejercicio Básico 7\n",
    "Imprimir los valores de un diccionario"
   ]
  },
  {
   "cell_type": "code",
   "execution_count": 44,
   "id": "bba68dae",
   "metadata": {},
   "outputs": [
    {
     "data": {
      "text/plain": [
       "dict_values([10, 8])"
      ]
     },
     "execution_count": 44,
     "metadata": {},
     "output_type": "execute_result"
    }
   ],
   "source": [
    "# Escribe tu solución aquí\n",
    "diccionario.values()"
   ]
  },
  {
   "cell_type": "markdown",
   "id": "de6e3f5f",
   "metadata": {},
   "source": [
    "### Ejercicio Básico 8\n",
    "Imprimir las llaves y valores de un diccionario"
   ]
  },
  {
   "cell_type": "code",
   "execution_count": 45,
   "id": "1b7096d3",
   "metadata": {},
   "outputs": [
    {
     "data": {
      "text/plain": [
       "dict_items([('mate', 10), ('lenguaje', 8)])"
      ]
     },
     "execution_count": 45,
     "metadata": {},
     "output_type": "execute_result"
    }
   ],
   "source": [
    "# Escribe tu solución aquí\n",
    "diccionario.items()"
   ]
  },
  {
   "cell_type": "markdown",
   "id": "4fe8f3b6",
   "metadata": {},
   "source": [
    "### Ejercicio Aplicado 1\n",
    "Crea un diccionario vacío y agrega tres elementos de la siguiente forma: 'clave': valor"
   ]
  },
  {
   "cell_type": "code",
   "execution_count": 46,
   "id": "2bedb3b1",
   "metadata": {},
   "outputs": [
    {
     "name": "stdout",
     "output_type": "stream",
     "text": [
      "{'Hidrógeno': 1, 'Helio': 2, 'Litio': 3}\n"
     ]
    }
   ],
   "source": [
    "0# Escribe tu solución aquí\n",
    "# Crear diccionario vacío\n",
    "elementos = {}\n",
    "\n",
    "# Agregar elementos\n",
    "elementos['Hidrógeno'] = 1\n",
    "elementos['Helio'] = 2\n",
    "elementos['Litio'] = 3\n",
    "\n",
    "# Mostrar el diccionario\n",
    "print(elementos)\n"
   ]
  },
  {
   "cell_type": "markdown",
   "id": "5e93d56f",
   "metadata": {},
   "source": [
    "### Ejercicio Aplicado 2\n",
    "Dado el siguiente diccionario:\n",
    "```python\n",
    "personas = {\"Juan\": 28, \"María\": 20, \"Pedro\": 32, \"Ana\": 25}\n",
    "```\n",
    "a) Imprime la edad de Juan.  \n",
    "b) Agrega un nuevo elemento al diccionario con la clave 'Luis' y la edad 18.  \n",
    "c) Elimina el elemento con la clave 'Pedro'."
   ]
  },
  {
   "cell_type": "code",
   "execution_count": 47,
   "id": "8555f7d3",
   "metadata": {},
   "outputs": [
    {
     "name": "stdout",
     "output_type": "stream",
     "text": [
      "Edad de Juan: 28\n",
      "Diccionario después de agregar a Luis: {'Juan': 28, 'María': 20, 'Pedro': 32, 'Ana': 25, 'Luis': 18}\n",
      "Diccionario después de eliminar a Pedro: {'Juan': 28, 'María': 20, 'Ana': 25, 'Luis': 18}\n"
     ]
    }
   ],
   "source": [
    "# Escribe tu solución aquí\n",
    "# Diccionario inicial\n",
    "personas = {\"Juan\": 28, \"María\": 20, \"Pedro\": 32, \"Ana\": 25}\n",
    "\n",
    "# a) Imprimir la edad de Juan\n",
    "print(\"Edad de Juan:\", personas[\"Juan\"])\n",
    "\n",
    "# b) Agregar a Luis con edad 18\n",
    "personas[\"Luis\"] = 18\n",
    "print(\"Diccionario después de agregar a Luis:\", personas)\n",
    "\n",
    "# c) Eliminar a Pedro\n",
    "del personas[\"Pedro\"]\n",
    "print(\"Diccionario después de eliminar a Pedro:\", personas)\n",
    "\n"
   ]
  },
  {
   "cell_type": "markdown",
   "id": "28422800",
   "metadata": {},
   "source": [
    "### Ejercicio Aplicado 3\n",
    "Dado el siguiente diccionario:\n",
    "```python\n",
    "ventas = {\"manzanas\": 10, \"naranjas\": 5, \"peras\": 8}\n",
    "```\n",
    "a) Imprime la cantidad de manzanas vendidas.  \n",
    "b) Agrega 3 elementos más al diccionario: 'limones': 12, 'sandías': 3, 'melones': 5.  \n",
    "c) Imprime las claves del diccionario."
   ]
  },
  {
   "cell_type": "code",
   "execution_count": 48,
   "id": "b2689c93",
   "metadata": {},
   "outputs": [
    {
     "name": "stdout",
     "output_type": "stream",
     "text": [
      "Cantidad de manzanas vendidas: 10\n",
      "Claves del diccionario: ['manzanas', 'naranjas', 'peras', 'limones', 'sandías', 'melones']\n"
     ]
    }
   ],
   "source": [
    "# Escribe tu solución aquí\n",
    "# Diccionario inicial\n",
    "ventas = {\"manzanas\": 10, \"naranjas\": 5, \"peras\": 8}\n",
    "\n",
    "# a) Imprimir la cantidad de manzanas vendidas\n",
    "print(\"Cantidad de manzanas vendidas:\", ventas[\"manzanas\"])\n",
    "\n",
    "# b) Agregar 3 elementos más\n",
    "ventas[\"limones\"] = 12\n",
    "ventas[\"sandías\"] = 3\n",
    "ventas[\"melones\"] = 5\n",
    "\n",
    "# c) Imprimir las claves del diccionario\n",
    "print(\"Claves del diccionario:\", list(ventas.keys()))\n"
   ]
  },
  {
   "cell_type": "markdown",
   "id": "285e41cc",
   "metadata": {},
   "source": [
    "### Ejercicio Aplicado 4\n",
    "Dado el siguiente diccionario:\n",
    "```python\n",
    "alumnos = {\"Juan\": {\"edad\": 22, \"promedio\": 8.5},\n",
    "           \"María\": {\"edad\": 20, \"promedio\": 9.0},\n",
    "           \"Pedro\": {\"edad\": 25, \"promedio\": 7.5}}\n",
    "```\n",
    "a) Imprime la edad de Juan.  \n",
    "b) Imprime el promedio de María.  \n",
    "c) Agrega un nuevo elemento al diccionario con la clave 'Ana' y los valores 'edad': 19 y 'promedio': 8.0."
   ]
  },
  {
   "cell_type": "code",
   "execution_count": 49,
   "id": "4dea8dfa",
   "metadata": {},
   "outputs": [
    {
     "name": "stdout",
     "output_type": "stream",
     "text": [
      "Edad de Juan: 22\n",
      "Promedio de María: 9.0\n",
      "Diccionario actualizado: {'Juan': {'edad': 22, 'promedio': 8.5}, 'María': {'edad': 20, 'promedio': 9.0}, 'Pedro': {'edad': 25, 'promedio': 7.5}, 'Ana': {'edad': 19, 'promedio': 8.0}}\n"
     ]
    }
   ],
   "source": [
    "# Escribe tu solución aquí\n",
    "# Diccionario inicial\n",
    "alumnos = {\n",
    "    \"Juan\": {\"edad\": 22, \"promedio\": 8.5},\n",
    "    \"María\": {\"edad\": 20, \"promedio\": 9.0},\n",
    "    \"Pedro\": {\"edad\": 25, \"promedio\": 7.5}\n",
    "}\n",
    "\n",
    "# a) Imprimir la edad de Juan\n",
    "print(\"Edad de Juan:\", alumnos[\"Juan\"][\"edad\"])\n",
    "\n",
    "# b) Imprimir el promedio de María\n",
    "print(\"Promedio de María:\", alumnos[\"María\"][\"promedio\"])\n",
    "\n",
    "# c) Agregar un nuevo alumno Ana\n",
    "alumnos[\"Ana\"] = {\"edad\": 19, \"promedio\": 8.0}\n",
    "\n",
    "# Mostrar el diccionario actualizado\n",
    "print(\"Diccionario actualizado:\", alumnos)\n"
   ]
  },
  {
   "cell_type": "markdown",
   "id": "e6c304c2",
   "metadata": {},
   "source": [
    "### Ejercicio Aplicado 5\n",
    "Dado el siguiente diccionario:\n",
    "```python\n",
    "empleados = {\"Juan\": {\"departamento\": \"Ventas\", \"sueldo\": 1500},\n",
    "             \"María\": {\"departamento\": \"Contabilidad\", \"sueldo\": 1800},\n",
    "             \"Pedro\": {\"departamento\": \"Ventas\", \"sueldo\": 1700},\n",
    "             \"Ana\": {\"departamento\": \"Recursos Humanos\", \"sueldo\": 1900}}\n",
    "```\n",
    "a) Imprime el sueldo de Pedro.  \n",
    "b) Cambia el sueldo de Ana a 2000.  \n",
    "c) Crea un nuevo diccionario con los empleados del departamento de Ventas."
   ]
  },
  {
   "cell_type": "code",
   "execution_count": 50,
   "id": "dbed37f4",
   "metadata": {},
   "outputs": [
    {
     "name": "stdout",
     "output_type": "stream",
     "text": [
      "Sueldo de Pedro: 1700\n",
      "Sueldo actualizado de Ana: 2000\n",
      "Empleados del departamento de Ventas: ['Juan', 'Pedro']\n"
     ]
    }
   ],
   "source": [
    "# Escribe tu solución aquí\n",
    "empleados = {\"Juan\": {\"departamento\": \"Ventas\", \"sueldo\": 1500},\n",
    "             \"María\": {\"departamento\": \"Contabilidad\", \"sueldo\": 1800},\n",
    "             \"Pedro\": {\"departamento\": \"Ventas\", \"sueldo\": 1700},\n",
    "             \"Ana\": {\"departamento\": \"Recursos Humanos\", \"sueldo\": 1900}}\n",
    "\n",
    "# a) Imprimir el sueldo de Pedro\n",
    "print(\"Sueldo de Pedro:\", empleados[\"Pedro\"][\"sueldo\"])\n",
    "\n",
    "# b) Cambia el sueldo de Ana a 2000\n",
    "empleados[\"Ana\"][\"sueldo\"] = 2000\n",
    "print(\"Sueldo actualizado de Ana:\", empleados[\"Ana\"][\"sueldo\"])\n",
    "\n",
    "# c) Crear una lista con los nombres de los empleados del departamento de Ventas\n",
    "empleados_ventas = [nombre for nombre, info in empleados.items() if info[\"departamento\"] == \"Ventas\"]\n",
    "print(\"Empleados del departamento de Ventas:\", empleados_ventas)\n"
   ]
  },
  {
   "cell_type": "markdown",
   "id": "7706badf",
   "metadata": {},
   "source": [
    "### Ejercicio Aplicado 6\n",
    "Dado el siguiente diccionario:\n",
    "```python\n",
    "cursos = {\"Pedro\": [\"Matemáticas\", \"Biología\", \"Historia\"],\n",
    "          \"María\": [\"Física\", \"Química\", \"Literatura\"]}\n",
    "```\n",
    "a) Imprime las materias en las que está inscrito Pedro.  \n",
    "b) Agrega una materia más a la lista de materias de María: 'Programación'.  \n",
    "c) Crea un nuevo diccionario con los estudiantes que están inscritos en la materia de Biología."
   ]
  },
  {
   "cell_type": "code",
   "execution_count": 51,
   "id": "6cb4d006",
   "metadata": {},
   "outputs": [
    {
     "name": "stdout",
     "output_type": "stream",
     "text": [
      "Materias que cursa Pedro: ['Matemáticas', 'Biología', 'Historia']\n",
      "Materias que cursa María después de agregar Programación: ['Física', 'Química', 'Literatura', 'Programación']\n",
      "Estudiantes inscritos en Historia: ['Pedro']\n"
     ]
    }
   ],
   "source": [
    "# Escribe tu solución aquí\n",
    "cursos = {\"Pedro\": [\"Matemáticas\", \"Biología\", \"Historia\"],\n",
    "          \"María\": [\"Física\", \"Química\", \"Literatura\"]}\n",
    "\n",
    "# a) Imprimir las materias que cursa Pedro\n",
    "print(\"Materias que cursa Pedro:\", cursos[\"Pedro\"])\n",
    "\n",
    "# b) Agregar una materia mas a la lista de materias de Maria: 'Programación'\n",
    "cursos[\"María\"].append(\"Programación\")\n",
    "print(\"Materias que cursa María después de agregar Programación:\", cursos[\"María\"])\n",
    "\n",
    "# c) Crea un nuevo diccionario con los estudiantes que estan inscritos en la materia de 'Historia'\n",
    "inscritos_historia = [nombre for nombre, materias in cursos.items() if \"Historia\" in materias]\n",
    "print(\"Estudiantes inscritos en Historia:\", inscritos_historia)"
   ]
  },
  {
   "cell_type": "markdown",
   "id": "f95a0efa",
   "metadata": {},
   "source": []
  },
  {
   "cell_type": "markdown",
   "id": "656f6ffb",
   "metadata": {},
   "source": [
    "### Ejercicio Aplicado 7\n",
    "Dado el siguiente diccionario:\n",
    "```python\n",
    "productos = {'manzanas': 2.99, 'naranjas': 1.99, 'peras': 3.99, 'uvas': 4.99,\n",
    "             'kiwis': 0.99, 'duraznos': 2.49}\n",
    "stock = {'manzanas': 100, 'naranjas': 50, 'peras': 25, 'uvas': 75, 'kiwis': 200, 'duraznos': 60}\n",
    "```\n",
    "a) Imprime el precio de las naranjas.  \n",
    "b) Cambia el stock de peras a 12.  \n",
    "c) Crea una función que calcule el valor total de los productos en el diccionario."
   ]
  },
  {
   "cell_type": "code",
   "execution_count": 53,
   "id": "08363096",
   "metadata": {},
   "outputs": [
    {
     "name": "stdout",
     "output_type": "stream",
     "text": [
      "Precio de las naranjas: 1.99\n",
      "Stock actualizado de peras: 12\n",
      "Valor total de los productos: 1168.03\n"
     ]
    }
   ],
   "source": [
    "# Escribe tu solución aquí\n",
    "\n",
    "productos = {'manzanas': 2.99, 'naranjas': 1.99, 'peras': 3.99, 'uvas': 4.99,\n",
    "             'kiwis': 0.99, 'duraznos': 2.49}\n",
    "stock = {'manzanas': 100, 'naranjas': 50, 'peras': 25, 'uvas': 75, 'kiwis': 200, 'duraznos': 60}\n",
    "\n",
    "# a) Imprimir el precio de las naranjas\n",
    "print(\"Precio de las naranjas:\", productos['naranjas'])\n",
    "\n",
    "# b) Cambiar el stock de peras a 12\n",
    "stock['peras'] = 12\n",
    "print(\"Stock actualizado de peras:\", stock['peras'])\n",
    "\n",
    "# c) Función para calcular el valor total de los productos\n",
    "def valor_total(productos, stock):\n",
    "    total = 0\n",
    "    for item in productos:\n",
    "        total += productos[item] * stock[item]\n",
    "    return total\n",
    "\n",
    "# Llamar a la función y mostrar el valor total\n",
    "total = valor_total(productos, stock)\n",
    "print(\"Valor total de los productos:\", total)\n"
   ]
  }
 ],
 "metadata": {
  "kernelspec": {
   "display_name": "base",
   "language": "python",
   "name": "python3"
  },
  "language_info": {
   "codemirror_mode": {
    "name": "ipython",
    "version": 3
   },
   "file_extension": ".py",
   "mimetype": "text/x-python",
   "name": "python",
   "nbconvert_exporter": "python",
   "pygments_lexer": "ipython3",
   "version": "3.13.5"
  }
 },
 "nbformat": 4,
 "nbformat_minor": 5
}
