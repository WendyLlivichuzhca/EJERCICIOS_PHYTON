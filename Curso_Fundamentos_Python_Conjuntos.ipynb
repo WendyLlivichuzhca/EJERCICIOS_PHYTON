{
 "cells": [
  {
   "cell_type": "markdown",
   "id": "e34db480",
   "metadata": {},
   "source": [
    "# CURSO DE FUNDAMENTOS DE PYTHON\n",
    "## EJERCICIOS DE CONJUNTOS"
   ]
  },
  {
   "cell_type": "markdown",
   "id": "dc8f3c47",
   "metadata": {},
   "source": [
    "### Ejercicio 1\n",
    "Crear un conjunto con los números del 1 al 10 e imprimirlo en pantalla."
   ]
  },
  {
   "cell_type": "code",
   "execution_count": 1,
   "id": "00e43c48",
   "metadata": {},
   "outputs": [
    {
     "name": "stdout",
     "output_type": "stream",
     "text": [
      "{1, 2, 3, 4, 5, 6, 7, 8, 9, 10}\n"
     ]
    }
   ],
   "source": [
    "# Escribe tu solución aquí\n",
    "conjuntos = {1, 2, 3, 4, 5, 6, 7, 8, 9, 10}\n",
    "print(conjuntos)"
   ]
  },
  {
   "cell_type": "markdown",
   "id": "529c367c",
   "metadata": {},
   "source": [
    "### Ejercicio 2\n",
    "Crear dos conjuntos, uno con los números pares del 1 al 10 y otro con los impares del 1 al 10. Luego, imprimir los conjuntos y la intersección entre ellos."
   ]
  },
  {
   "cell_type": "code",
   "execution_count": 2,
   "id": "1d4dfc6e",
   "metadata": {},
   "outputs": [
    {
     "name": "stdout",
     "output_type": "stream",
     "text": [
      "Conjunto de pares: {2, 4, 6, 8, 10}\n",
      "Conjunto de impares: {1, 3, 5, 7, 9}\n",
      "Intersección entre pares e impares: set()\n"
     ]
    }
   ],
   "source": [
    "# Escribe tu solución aquí\n",
    "\n",
    "pares = {2, 4, 6, 8, 10}\n",
    "impares = {1, 3, 5, 7, 9}\n",
    "\n",
    "# Imprimir los conjuntos\n",
    "print(\"Conjunto de pares:\", pares)\n",
    "print(\"Conjunto de impares:\", impares)\n",
    "\n",
    "# Calcular la intersección\n",
    "interseccion = pares.intersection(impares)\n",
    "print(\"Intersección entre pares e impares:\", interseccion)\n"
   ]
  },
  {
   "cell_type": "markdown",
   "id": "c9ff0b79",
   "metadata": {},
   "source": [
    "### Ejercicio 3\n",
    "Crear un conjunto con los elementos 'manzana', 'banana' y 'naranja'. Luego, pedirle al usuario que ingrese un elemento y determinar si ese elemento se encuentra en el conjunto o no."
   ]
  },
  {
   "cell_type": "code",
   "execution_count": 3,
   "id": "80ec33af",
   "metadata": {},
   "outputs": [
    {
     "name": "stdout",
     "output_type": "stream",
     "text": [
      "Conjunto de frutas actualizado: {'manzana', 'banana', 'naranja', 'Pera'}\n",
      "Pera está en el conjunto.\n"
     ]
    }
   ],
   "source": [
    "# Escribe tu solución aquí\n",
    "frutas = {\"manzana\", \"banana\", \"naranja\"}\n",
    "\n",
    "# Pedirle al usuario que ingrese una fruta\n",
    "nueva_fruta = input(\"Ingresa una fruta para agregar al conjunto: \")\n",
    "frutas.add(nueva_fruta)\n",
    "print(\"Conjunto de frutas actualizado:\", frutas)\n",
    "\n",
    "# Determinar si ese elemento se encuentra en el conjunto o no\n",
    "if nueva_fruta in frutas:\n",
    "    print(f\"{nueva_fruta} está en el conjunto.\")\n",
    "else:\n",
    "    print(f\"{nueva_fruta} no está en el conjunto.\")"
   ]
  },
  {
   "cell_type": "markdown",
   "id": "7545cdae",
   "metadata": {},
   "source": [
    "### Ejercicio 4\n",
    "Crear un conjunto con los números del 1 al 5 y otro con los números del 4 al 8. Luego, unir los conjuntos y eliminar los elementos repetidos. Finalmente, imprimir el conjunto resultante."
   ]
  },
  {
   "cell_type": "code",
   "execution_count": 4,
   "id": "ecc7296a",
   "metadata": {},
   "outputs": [
    {
     "name": "stdout",
     "output_type": "stream",
     "text": [
      "Conjunto resultante: {1, 2, 3, 4, 5, 6, 7, 8}\n"
     ]
    }
   ],
   "source": [
    "# Escribe tu solución aquí\n",
    "conjunto1 = {1, 2, 3, 4, 5}\n",
    "conjunto2 = {4, 5, 6, 7, 8}\n",
    "\n",
    "# Unir conjuntos pero al unir se eliminan todos los que se repitan \n",
    "union = conjunto1 | conjunto2  \n",
    "\n",
    "# Imprimir el conjunto resultante\n",
    "print(\"Conjunto resultante:\", union)\n"
   ]
  },
  {
   "cell_type": "markdown",
   "id": "00f0dc42",
   "metadata": {},
   "source": [
    "### Ejercicio 5\n",
    "Crear un conjunto con los elementos 'leche', 'pan', 'huevos' y 'azúcar'. Luego, eliminar el elemento 'azúcar' del conjunto y agregar el elemento 'harina'. Finalmente, imprimir el conjunto resultante."
   ]
  },
  {
   "cell_type": "code",
   "execution_count": 8,
   "id": "234690d4",
   "metadata": {},
   "outputs": [
    {
     "name": "stdout",
     "output_type": "stream",
     "text": [
      "Conjunto inicial de compra: {'leche', 'azúcar', 'pan', 'huevos'}\n",
      "Después de eliminar 'azúcar': {'leche', 'pan', 'huevos'}\n",
      "Conjunto final de compra: {'leche', 'harina', 'pan', 'huevos'}\n"
     ]
    }
   ],
   "source": [
    "# Escribe tu solución aquí\n",
    "compra = {'leche', 'pan', 'huevos', 'azúcar'}\n",
    "print(\"Conjunto inicial de compra:\", compra)\n",
    "\n",
    "# Eliminar 'azúcar'\n",
    "compra.remove('azúcar')  \n",
    "print(\"Después de eliminar 'azúcar':\", compra)\n",
    "\n",
    "# Agregar 'harina'\n",
    "compra.add('harina')\n",
    "\n",
    "# Imprimir conjunto resultante\n",
    "print(\"Conjunto final de compra:\", compra)\n"
   ]
  },
  {
   "cell_type": "markdown",
   "id": "bd91310a",
   "metadata": {},
   "source": [
    "### Ejercicio 6\n",
    "Crear un conjunto con los nombres 'Juan', 'María', 'Pedro' y 'Luisa'. Luego, imprimir el número de elementos del conjunto."
   ]
  },
  {
   "cell_type": "code",
   "execution_count": 10,
   "id": "06a8bc38",
   "metadata": {},
   "outputs": [
    {
     "name": "stdout",
     "output_type": "stream",
     "text": [
      "Conjunto de nombres: {'Pedro', 'Juan', 'Luisa', 'Maria'}\n",
      "Cantidad de nombres en el conjunto: 4\n"
     ]
    }
   ],
   "source": [
    "# Escribe tu solución aquí\n",
    "nombres =  {'Juan','Maria','Pedro','Luisa'}\n",
    "print(\"Conjunto de nombres:\", nombres)\n",
    "print(\"Cantidad de nombres en el conjunto:\", len(nombres))"
   ]
  },
  {
   "cell_type": "markdown",
   "id": "ed349212",
   "metadata": {},
   "source": [
    "### Ejercicio 7\n",
    "Crear dos conjuntos, uno con los números del 1 al 5 y otro con los números del 4 al 8. Luego, imprimir los conjuntos y la diferencia simétrica entre ellos."
   ]
  },
  {
   "cell_type": "code",
   "execution_count": 11,
   "id": "937c8425",
   "metadata": {},
   "outputs": [
    {
     "name": "stdout",
     "output_type": "stream",
     "text": [
      "Conjunto 1: {1, 2, 3, 4, 5}\n",
      "Conjunto 2: {4, 5, 6, 7, 8}\n",
      "Diferencia simétrica entre con1 y con2: {1, 2, 3, 6, 7, 8}\n"
     ]
    }
   ],
   "source": [
    "# Escribe tu solución aquí\n",
    "con1 = {1, 2, 3, 4, 5}\n",
    "con2 = {4, 5, 6, 7, 8}\n",
    "\n",
    "#Imprimir los conjuntos y la diferencia simetrica entre ellos\n",
    "print(\"Conjunto 1:\", con1)\n",
    "print(\"Conjunto 2:\", con2)\n",
    "print(\"Diferencia simétrica entre con1 y con2:\", con1.symmetric_difference(con2))"
   ]
  },
  {
   "cell_type": "markdown",
   "id": "0f51fba6",
   "metadata": {},
   "source": [
    "### Ejercicio 8\n",
    "Crear un conjunto con los números del 1 al 10 y otro con los números del 5 al 15. Luego, imprimir los conjuntos y la unión entre ellos."
   ]
  },
  {
   "cell_type": "code",
   "execution_count": 12,
   "id": "8dae4f93",
   "metadata": {},
   "outputs": [
    {
     "name": "stdout",
     "output_type": "stream",
     "text": [
      "Conjunto 1: {1, 2, 3, 4, 5, 6, 7, 8, 9, 10}\n",
      "Conjunto 2: {5, 6, 7, 8, 9, 10, 11, 12, 13, 14, 15}\n",
      "Unión entre numeros1 y numeros2: {1, 2, 3, 4, 5, 6, 7, 8, 9, 10, 11, 12, 13, 14, 15}\n"
     ]
    }
   ],
   "source": [
    "# Escribe tu solución aquí\n",
    "numeros1 = {1, 2, 3, 4, 5, 6, 7, 8, 9, 10}\n",
    "numeros2 = {5, 6, 7, 8, 9, 10, 11, 12, 13, 14, 15}  \n",
    "\n",
    "# Imprimir los conjuntos y la unión entre ellos\n",
    "print(\"Conjunto 1:\", numeros1)\n",
    "print(\"Conjunto 2:\", numeros2)\n",
    "print(\"Unión entre numeros1 y numeros2:\", numeros1.union(numeros2))"
   ]
  },
  {
   "cell_type": "markdown",
   "id": "254ab7d8",
   "metadata": {},
   "source": [
    "### Ejercicio 9\n",
    "Crear un conjunto con los elementos 'manzana', 'banana', 'naranja' y 'pera'. Luego, imprimir los elementos del conjunto en orden alfabético."
   ]
  },
  {
   "cell_type": "code",
   "execution_count": 13,
   "id": "fdafdce4",
   "metadata": {},
   "outputs": [
    {
     "name": "stdout",
     "output_type": "stream",
     "text": [
      "banana\n",
      "manzana\n",
      "naranja\n"
     ]
    }
   ],
   "source": [
    "# Escribe tu solución aquí\n",
    "frutas1 = {'manzana', 'banana', 'naranja'}\n",
    "\n",
    "# Imprimir los elementos del conjunto en orden alfabético\n",
    "for fruta in sorted(frutas1):\n",
    "    print(fruta)    "
   ]
  },
  {
   "cell_type": "markdown",
   "id": "db50ac1c",
   "metadata": {},
   "source": [
    "### Ejercicio 10\n",
    "Crear un conjunto con los números del 1 al 10 y otro con los números del 6 al 15. Luego, imprimir los conjuntos y la intersección entre ellos."
   ]
  },
  {
   "cell_type": "code",
   "execution_count": 14,
   "id": "347edd2b",
   "metadata": {},
   "outputs": [
    {
     "name": "stdout",
     "output_type": "stream",
     "text": [
      "Conjunto 1: {1, 2, 3, 4, 5, 6, 7, 8, 9, 10}\n",
      "Conjunto 2: {6, 7, 8, 9, 10, 11, 12, 13, 14, 15}\n",
      "Intersección entre cnj1 y cnj2: {6, 7, 8, 9, 10}\n"
     ]
    }
   ],
   "source": [
    "# Escribe tu solución aquí\n",
    "cnj1 = {1, 2, 3, 4, 5, 6, 7, 8, 9, 10}\n",
    "cnj2 = {6, 7, 8, 9, 10, 11, 12, 13, 14, 15}\n",
    "\n",
    "# Imprimir los conjuntos y la intersección entre ellos\n",
    "print(\"Conjunto 1:\", cnj1)\n",
    "print(\"Conjunto 2:\", cnj2)\n",
    "print(\"Intersección entre cnj1 y cnj2:\", cnj1.intersection(cnj2))"
   ]
  }
 ],
 "metadata": {
  "kernelspec": {
   "display_name": "base",
   "language": "python",
   "name": "python3"
  },
  "language_info": {
   "codemirror_mode": {
    "name": "ipython",
    "version": 3
   },
   "file_extension": ".py",
   "mimetype": "text/x-python",
   "name": "python",
   "nbconvert_exporter": "python",
   "pygments_lexer": "ipython3",
   "version": "3.13.5"
  }
 },
 "nbformat": 4,
 "nbformat_minor": 5
}
